{
 "cells": [
  {
   "cell_type": "markdown",
   "metadata": {},
   "source": [
    "一只青蛙一次可以跳上 1 级台阶，也可以跳上2 级。求该青蛙跳上一个n 级的台阶总共有多少种跳法"
   ]
  },
  {
   "cell_type": "code",
   "execution_count": 3,
   "metadata": {},
   "outputs": [],
   "source": [
    "def frog(n):\n",
    "    if n <= 1:\n",
    "        return 1\n",
    "    return frog(n-1)+frog(n-2)"
   ]
  },
  {
   "cell_type": "code",
   "execution_count": 10,
   "metadata": {},
   "outputs": [
    {
     "name": "stdout",
     "output_type": "stream",
     "text": [
      "Wall time: 0 ns\n"
     ]
    },
    {
     "data": {
      "text/plain": [
       "5"
      ]
     },
     "execution_count": 10,
     "metadata": {},
     "output_type": "execute_result"
    }
   ],
   "source": [
    "%%time\n",
    "frog(4)"
   ]
  },
  {
   "cell_type": "code",
   "execution_count": 15,
   "metadata": {},
   "outputs": [],
   "source": [
    "class Dp1(object):                                     #动态规划类\n",
    "    def __init__(self,n):                              #初始化\n",
    "        self.mark = [0 for _ in range(n+1)]           #定义一个一维数组，初始化全部为0，长度为台阶数。用来当作“备忘录”。\n",
    "        print(self.dp(n))                              #开始递归\n",
    "    def dp(self,n):                                    #递归的方法\n",
    "        self.m = 0                                     #m的含义是当前n个台阶有m种跳法\n",
    "        if self.mark[n] != 0:                          #先从备忘录寻找n，若存在mark[n]不等于0,则代表曾经计算过，n个台阶有mark[n]种跳法\n",
    "            self.m = self.mark[n]                      #若备忘录有，则直接得到n层台阶的答案\n",
    "        elif n <= 0:                                   #从这里开始的四行是用来判断“边界问题”\n",
    "            if n == 0:                                 #若刚好跳完台阶，则这样算一种方法\n",
    "                self.m = 1                             #m变成1,代表是一种可行方法\n",
    "            else:                                      #有可能跳的台阶超过实际台阶数\n",
    "                self.m = 0                             #m为0,代表不可行\n",
    "        elif n>0:                                      #这里两行是用于规划转移方程式（其实这里很简单），青蛙只有两种可能，跳一层或者跳两层。\n",
    "            self.m = self.dp(n-2)+self.dp(n-1)         #当前n层台阶的解个数 等于 n-1层台阶的解 + n-2层台阶的解\n",
    "        self.mark[n] = self.m                          #把m放入备忘录，下次若是再次是n层台阶，则不用计算直接取备忘录的数。（优化）\n",
    "        return self.m "
   ]
  },
  {
   "cell_type": "code",
   "execution_count": 23,
   "metadata": {},
   "outputs": [
    {
     "name": "stdout",
     "output_type": "stream",
     "text": [
      "1\n",
      "Wall time: 0 ns\n"
     ]
    }
   ],
   "source": [
    "%%time\n",
    "dp1 = Dp1(1)"
   ]
  },
  {
   "cell_type": "code",
   "execution_count": null,
   "metadata": {},
   "outputs": [],
   "source": []
  }
 ],
 "metadata": {
  "kernelspec": {
   "display_name": "paddle",
   "language": "python",
   "name": "paddle"
  },
  "language_info": {
   "codemirror_mode": {
    "name": "ipython",
    "version": 3
   },
   "file_extension": ".py",
   "mimetype": "text/x-python",
   "name": "python",
   "nbconvert_exporter": "python",
   "pygments_lexer": "ipython3",
   "version": "3.7.5"
  }
 },
 "nbformat": 4,
 "nbformat_minor": 2
}
